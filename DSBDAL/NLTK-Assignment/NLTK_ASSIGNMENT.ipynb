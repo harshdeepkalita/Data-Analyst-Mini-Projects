{
 "cells": [
  {
   "cell_type": "code",
   "execution_count": 9,
   "id": "2236e1b9",
   "metadata": {},
   "outputs": [
    {
     "name": "stderr",
     "output_type": "stream",
     "text": [
      "[nltk_data] Downloading package punkt to C:\\Users\\Harsh Deep\n",
      "[nltk_data]     Kalita\\AppData\\Roaming\\nltk_data...\n",
      "[nltk_data]   Package punkt is already up-to-date!\n",
      "[nltk_data] Downloading package stopwords to C:\\Users\\Harsh Deep\n",
      "[nltk_data]     Kalita\\AppData\\Roaming\\nltk_data...\n",
      "[nltk_data]   Package stopwords is already up-to-date!\n",
      "[nltk_data] Downloading package averaged_perceptron_tagger to\n",
      "[nltk_data]     C:\\Users\\Harsh Deep\n",
      "[nltk_data]     Kalita\\AppData\\Roaming\\nltk_data...\n",
      "[nltk_data]   Package averaged_perceptron_tagger is already up-to-\n",
      "[nltk_data]       date!\n",
      "[nltk_data] Downloading package tagsets to C:\\Users\\Harsh Deep\n",
      "[nltk_data]     Kalita\\AppData\\Roaming\\nltk_data...\n",
      "[nltk_data]   Package tagsets is already up-to-date!\n"
     ]
    },
    {
     "data": {
      "text/plain": [
       "True"
      ]
     },
     "execution_count": 9,
     "metadata": {},
     "output_type": "execute_result"
    }
   ],
   "source": [
    "import nltk\n",
    "from nltk.corpus import stopwords\n",
    "from nltk.tokenize import word_tokenize\n",
    "from nltk.stem import PorterStemmer, WordNetLemmatizer\n",
    "from math import log\n",
    "\n",
    "nltk.download('punkt')\n",
    "nltk.download('stopwords')\n",
    "nltk.download('averaged_perceptron_tagger')\n",
    "nltk.download('tagsets')"
   ]
  },
  {
   "cell_type": "code",
   "execution_count": 10,
   "id": "707793aa",
   "metadata": {},
   "outputs": [],
   "source": [
    "#nltk.help.upenn_tagset()"
   ]
  },
  {
   "cell_type": "code",
   "execution_count": 11,
   "id": "f383c33c",
   "metadata": {},
   "outputs": [],
   "source": [
    "from nltk.stem import PorterStemmer\n",
    "from nltk.tokenize import word_tokenize\n",
    "import math\n",
    "from nltk.corpus import stopwords\n",
    "\n",
    "# Input documents\n",
    "documents = [\n",
    "    \"The dogs are running and jumping around.\",\n",
    "    \"Cats are sleeping peacefully.\",\n",
    "    \"Birds are chirping in the trees.\"\n",
    "]\n",
    "stop_words = set(stopwords.words('english'))\n",
    "\n",
    "# Stemming and tokenization\n",
    "stemmer = PorterStemmer()\n",
    "stemmed_documents = []\n",
    "\n",
    "for doc in documents:\n",
    "    tokens = word_tokenize(doc)\n",
    "    stemmed_words = [stemmer.stem(token) for token in tokens if token.lower() not in stop_words]\n",
    "    stemmed_documents.append(stemmed_words)\n",
    "\n",
    "# Calculate TF\n",
    "tf = []\n",
    "total_terms = 0\n",
    "\n",
    "for doc in stemmed_documents:\n",
    "    doc_tf = {}\n",
    "    doc_total_terms = len(doc)\n",
    "    \n",
    "    for term in doc:\n",
    "        if term in doc_tf:\n",
    "            doc_tf[term] += 1\n",
    "        else:\n",
    "            doc_tf[term] = 1\n",
    "    \n",
    "    doc_tf = {term: freq / doc_total_terms for term, freq in doc_tf.items()}\n",
    "    \n",
    "    tf.append(doc_tf)\n",
    "    total_terms += doc_total_terms\n",
    "\n",
    "# Calculate IDF\n",
    "idf = {}\n",
    "\n",
    "for doc in tf:\n",
    "    for term in doc.keys():\n",
    "        if term in idf:\n",
    "            idf[term] += 1\n",
    "        else:\n",
    "            idf[term] = 1\n",
    "\n",
    "idf = {term: math.log(len(documents) / freq) for term, freq in idf.items()}"
   ]
  },
  {
   "cell_type": "code",
   "execution_count": 12,
   "id": "6d873cb9",
   "metadata": {},
   "outputs": [
    {
     "name": "stdout",
     "output_type": "stream",
     "text": [
      "Stemmed Document 1: ['dog', 'run', 'jump', 'around', '.']\n",
      "TF-IDF values:\n"
     ]
    },
    {
     "ename": "NameError",
     "evalue": "name 'feature_names' is not defined",
     "output_type": "error",
     "traceback": [
      "\u001b[1;31m---------------------------------------------------------------------------\u001b[0m",
      "\u001b[1;31mNameError\u001b[0m                                 Traceback (most recent call last)",
      "Input \u001b[1;32mIn [12]\u001b[0m, in \u001b[0;36m<cell line: 1>\u001b[1;34m()\u001b[0m\n\u001b[0;32m      2\u001b[0m \u001b[38;5;28mprint\u001b[39m(\u001b[38;5;124m\"\u001b[39m\u001b[38;5;124mStemmed Document \u001b[39m\u001b[38;5;132;01m{}\u001b[39;00m\u001b[38;5;124m: \u001b[39m\u001b[38;5;132;01m{}\u001b[39;00m\u001b[38;5;124m\"\u001b[39m\u001b[38;5;241m.\u001b[39mformat(i\u001b[38;5;241m+\u001b[39m\u001b[38;5;241m1\u001b[39m, doc))\n\u001b[0;32m      3\u001b[0m \u001b[38;5;28mprint\u001b[39m(\u001b[38;5;124m\"\u001b[39m\u001b[38;5;124mTF-IDF values:\u001b[39m\u001b[38;5;124m\"\u001b[39m)\n\u001b[1;32m----> 4\u001b[0m \u001b[38;5;28;01mfor\u001b[39;00m j, term \u001b[38;5;129;01min\u001b[39;00m \u001b[38;5;28menumerate\u001b[39m(\u001b[43mfeature_names\u001b[49m):\n\u001b[0;32m      5\u001b[0m     \u001b[38;5;28mprint\u001b[39m(\u001b[38;5;124m\"\u001b[39m\u001b[38;5;132;01m{}\u001b[39;00m\u001b[38;5;124m: \u001b[39m\u001b[38;5;132;01m{}\u001b[39;00m\u001b[38;5;124m\"\u001b[39m\u001b[38;5;241m.\u001b[39mformat(term, tfidf_values[i][j]))\n\u001b[0;32m      6\u001b[0m \u001b[38;5;28mprint\u001b[39m()\n",
      "\u001b[1;31mNameError\u001b[0m: name 'feature_names' is not defined"
     ]
    }
   ],
   "source": [
    "for i, doc in enumerate(stemmed_documents):\n",
    "    print(\"Stemmed Document {}: {}\".format(i+1, doc))\n",
    "    print(\"TF-IDF values:\")\n",
    "    for j, term in enumerate(feature_names):\n",
    "        print(\"{}: {}\".format(term, tfidf_values[i][j]))\n",
    "    print()"
   ]
  },
  {
   "cell_type": "code",
   "execution_count": 13,
   "id": "cf7429f0",
   "metadata": {},
   "outputs": [
    {
     "data": {
      "text/plain": [
       "[{'dog': 0.2, 'run': 0.2, 'jump': 0.2, 'around': 0.2, '.': 0.2},\n",
       " {'cat': 0.25, 'sleep': 0.25, 'peac': 0.25, '.': 0.25},\n",
       " {'bird': 0.25, 'chirp': 0.25, 'tree': 0.25, '.': 0.25}]"
      ]
     },
     "execution_count": 13,
     "metadata": {},
     "output_type": "execute_result"
    }
   ],
   "source": [
    "tf"
   ]
  },
  {
   "cell_type": "code",
   "execution_count": null,
   "id": "9bce563d",
   "metadata": {},
   "outputs": [],
   "source": []
  }
 ],
 "metadata": {
  "kernelspec": {
   "display_name": "Python 3 (ipykernel)",
   "language": "python",
   "name": "python3"
  },
  "language_info": {
   "codemirror_mode": {
    "name": "ipython",
    "version": 3
   },
   "file_extension": ".py",
   "mimetype": "text/x-python",
   "name": "python",
   "nbconvert_exporter": "python",
   "pygments_lexer": "ipython3",
   "version": "3.9.12"
  }
 },
 "nbformat": 4,
 "nbformat_minor": 5
}
