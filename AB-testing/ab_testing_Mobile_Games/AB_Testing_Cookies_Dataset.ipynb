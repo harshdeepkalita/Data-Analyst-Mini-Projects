{
 "cells": [
  {
   "cell_type": "code",
   "execution_count": 1,
   "id": "793e9c13",
   "metadata": {},
   "outputs": [],
   "source": [
    "import pandas as pd\n",
    "import numpy as np\n",
    "import matplotlib.pyplot as plt\n",
    "import seaborn as sb\n",
    "import warnings\n",
    "import statsmodels.api as sm\n",
    "warnings.filterwarnings('ignore')\n",
    "np.random.seed(42)\n",
    "from scipy.stats import norm"
   ]
  },
  {
   "cell_type": "code",
   "execution_count": 186,
   "id": "3f3fdb1b",
   "metadata": {},
   "outputs": [],
   "source": [
    "import zipfile\n",
    "with zipfile.ZipFile(\"archive.zip\",\"r\") as zip_ref:\n",
    "    zip_ref.extractall()"
   ]
  },
  {
   "cell_type": "markdown",
   "id": "938e5f43",
   "metadata": {},
   "source": [
    "## Introduction\n",
    "Cookie Cats is a hugely popular mobile puzzle game developed by Tactile Entertainment. It's a classic \"connect three\" style puzzle game where the player must connect tiles of the same color in order to clear the board and win the level. It also features singing cats. We're not kidding!\n",
    "<br><br>\n",
    "<center><img src=\"https://i.pinimg.com/originals/eb/3c/4b/eb3c4b5be29530a68c32434297d6f8b5.png\" width=200/></center>\n",
    "\n",
    "\n",
    "\n",
    "As players progress through the game they will encounter gates that force them to wait some time before they can progress or make an in-app purchase. In this project, we will analyze the result of an A/B test where the first gate in Cookie Cats was moved from level 30 to level 40. In particular, we will analyze the impact on player retention.\n",
    "<br><br>\n",
    "This sort of “time gate” is usually seen in free-to-play models, and normally contains ads that can be skipped using credits. In this case the player requires to submit a specific number of ‘Keys’, which also can be skipped in exchange of in-game purchases."
   ]
  },
  {
   "cell_type": "markdown",
   "id": "bbb5b65d",
   "metadata": {},
   "source": [
    "<center>\n",
    "\n",
    "|Data columns|Purpose|Valid values|\n",
    "| ------------- |:-------------| -----:|\n",
    "|userid| A unique number that identifies each player.|Category values|\n",
    "|version| Whether the player was put in the control group (gate_30 - a gate at level 30) or the group with the moved gate (gate_40 - a gate at level 40).|category|\n",
    "|sum_gamerounds|The number of game rounds played by the player during the first 14 days after install.`|int64|\n",
    "|retention_1|Did the player come back and play 1 day after installing?|Boolean|\n",
    "|retention_7|Did the player come back and play 7 days after installing?|Boolean|\n",
    "</center>"
   ]
  },
  {
   "cell_type": "code",
   "execution_count": 54,
   "id": "94a1b91b",
   "metadata": {},
   "outputs": [
    {
     "data": {
      "text/html": [
       "<div>\n",
       "<style scoped>\n",
       "    .dataframe tbody tr th:only-of-type {\n",
       "        vertical-align: middle;\n",
       "    }\n",
       "\n",
       "    .dataframe tbody tr th {\n",
       "        vertical-align: top;\n",
       "    }\n",
       "\n",
       "    .dataframe thead th {\n",
       "        text-align: right;\n",
       "    }\n",
       "</style>\n",
       "<table border=\"1\" class=\"dataframe\">\n",
       "  <thead>\n",
       "    <tr style=\"text-align: right;\">\n",
       "      <th></th>\n",
       "      <th>userid</th>\n",
       "      <th>version</th>\n",
       "      <th>sum_gamerounds</th>\n",
       "      <th>retention_1</th>\n",
       "      <th>retention_7</th>\n",
       "    </tr>\n",
       "  </thead>\n",
       "  <tbody>\n",
       "    <tr>\n",
       "      <th>0</th>\n",
       "      <td>116</td>\n",
       "      <td>gate_30</td>\n",
       "      <td>3</td>\n",
       "      <td>False</td>\n",
       "      <td>False</td>\n",
       "    </tr>\n",
       "    <tr>\n",
       "      <th>1</th>\n",
       "      <td>337</td>\n",
       "      <td>gate_30</td>\n",
       "      <td>38</td>\n",
       "      <td>True</td>\n",
       "      <td>False</td>\n",
       "    </tr>\n",
       "    <tr>\n",
       "      <th>2</th>\n",
       "      <td>377</td>\n",
       "      <td>gate_40</td>\n",
       "      <td>165</td>\n",
       "      <td>True</td>\n",
       "      <td>False</td>\n",
       "    </tr>\n",
       "    <tr>\n",
       "      <th>3</th>\n",
       "      <td>483</td>\n",
       "      <td>gate_40</td>\n",
       "      <td>1</td>\n",
       "      <td>False</td>\n",
       "      <td>False</td>\n",
       "    </tr>\n",
       "    <tr>\n",
       "      <th>4</th>\n",
       "      <td>488</td>\n",
       "      <td>gate_40</td>\n",
       "      <td>179</td>\n",
       "      <td>True</td>\n",
       "      <td>True</td>\n",
       "    </tr>\n",
       "  </tbody>\n",
       "</table>\n",
       "</div>"
      ],
      "text/plain": [
       "   userid  version  sum_gamerounds  retention_1  retention_7\n",
       "0     116  gate_30               3        False        False\n",
       "1     337  gate_30              38         True        False\n",
       "2     377  gate_40             165         True        False\n",
       "3     483  gate_40               1        False        False\n",
       "4     488  gate_40             179         True         True"
      ]
     },
     "execution_count": 54,
     "metadata": {},
     "output_type": "execute_result"
    }
   ],
   "source": [
    "df = pd.read_csv('cookie_cats.csv')\n",
    "df.head()"
   ]
  },
  {
   "cell_type": "code",
   "execution_count": 55,
   "id": "3e0ddc9e",
   "metadata": {},
   "outputs": [
    {
     "name": "stdout",
     "output_type": "stream",
     "text": [
      "<class 'pandas.core.frame.DataFrame'>\n",
      "RangeIndex: 90189 entries, 0 to 90188\n",
      "Data columns (total 5 columns):\n",
      " #   Column          Non-Null Count  Dtype \n",
      "---  ------          --------------  ----- \n",
      " 0   userid          90189 non-null  int64 \n",
      " 1   version         90189 non-null  object\n",
      " 2   sum_gamerounds  90189 non-null  int64 \n",
      " 3   retention_1     90189 non-null  bool  \n",
      " 4   retention_7     90189 non-null  bool  \n",
      "dtypes: bool(2), int64(2), object(1)\n",
      "memory usage: 2.2+ MB\n"
     ]
    }
   ],
   "source": [
    "df.info()"
   ]
  },
  {
   "cell_type": "code",
   "execution_count": 59,
   "id": "1edc6c20",
   "metadata": {},
   "outputs": [
    {
     "data": {
      "text/plain": [
       "userid            90189\n",
       "version               2\n",
       "sum_gamerounds      942\n",
       "retention_1           2\n",
       "retention_7           2\n",
       "dtype: int64"
      ]
     },
     "execution_count": 59,
     "metadata": {},
     "output_type": "execute_result"
    }
   ],
   "source": [
    "df.nunique()"
   ]
  },
  {
   "cell_type": "code",
   "execution_count": 56,
   "id": "1d6da1c4",
   "metadata": {},
   "outputs": [
    {
     "name": "stdout",
     "output_type": "stream",
     "text": [
      "The number of duplicated rows are:  0\n"
     ]
    }
   ],
   "source": [
    "print('The number of duplicated rows are: ',df.duplicated().sum())"
   ]
  },
  {
   "cell_type": "markdown",
   "id": "3ecca233",
   "metadata": {},
   "source": [
    "## Data Exploration of the feature sum_gamerounds:"
   ]
  },
  {
   "cell_type": "code",
   "execution_count": 62,
   "id": "099fd693",
   "metadata": {
    "scrolled": true
   },
   "outputs": [
    {
     "name": "stdout",
     "output_type": "stream",
     "text": [
      "We can see that 50% of our players have not played more than 16 rounds and 75% of our players have not played more than        51 rounds. There is clearly a really high end outlier present here.\n"
     ]
    },
    {
     "data": {
      "text/html": [
       "<div>\n",
       "<style scoped>\n",
       "    .dataframe tbody tr th:only-of-type {\n",
       "        vertical-align: middle;\n",
       "    }\n",
       "\n",
       "    .dataframe tbody tr th {\n",
       "        vertical-align: top;\n",
       "    }\n",
       "\n",
       "    .dataframe thead th {\n",
       "        text-align: right;\n",
       "    }\n",
       "</style>\n",
       "<table border=\"1\" class=\"dataframe\">\n",
       "  <thead>\n",
       "    <tr style=\"text-align: right;\">\n",
       "      <th></th>\n",
       "      <th>sum_gamerounds</th>\n",
       "    </tr>\n",
       "  </thead>\n",
       "  <tbody>\n",
       "    <tr>\n",
       "      <th>count</th>\n",
       "      <td>90189.000000</td>\n",
       "    </tr>\n",
       "    <tr>\n",
       "      <th>mean</th>\n",
       "      <td>51.872457</td>\n",
       "    </tr>\n",
       "    <tr>\n",
       "      <th>std</th>\n",
       "      <td>195.050858</td>\n",
       "    </tr>\n",
       "    <tr>\n",
       "      <th>min</th>\n",
       "      <td>0.000000</td>\n",
       "    </tr>\n",
       "    <tr>\n",
       "      <th>25%</th>\n",
       "      <td>5.000000</td>\n",
       "    </tr>\n",
       "    <tr>\n",
       "      <th>50%</th>\n",
       "      <td>16.000000</td>\n",
       "    </tr>\n",
       "    <tr>\n",
       "      <th>75%</th>\n",
       "      <td>51.000000</td>\n",
       "    </tr>\n",
       "    <tr>\n",
       "      <th>max</th>\n",
       "      <td>49854.000000</td>\n",
       "    </tr>\n",
       "  </tbody>\n",
       "</table>\n",
       "</div>"
      ],
      "text/plain": [
       "       sum_gamerounds\n",
       "count    90189.000000\n",
       "mean        51.872457\n",
       "std        195.050858\n",
       "min          0.000000\n",
       "25%          5.000000\n",
       "50%         16.000000\n",
       "75%         51.000000\n",
       "max      49854.000000"
      ]
     },
     "execution_count": 62,
     "metadata": {},
     "output_type": "execute_result"
    }
   ],
   "source": [
    "print('We can see that 50% of our players have not played more than 16 rounds and 75% of our players have not played more than        51 rounds. There is clearly a really high end outlier present here.')\n",
    "df.sum_gamerounds.describe().to_frame()"
   ]
  },
  {
   "cell_type": "code",
   "execution_count": 52,
   "id": "01e680e8",
   "metadata": {},
   "outputs": [
    {
     "data": {
      "image/png": "[encoded data removed]",
      "text/plain": [
       "<Figure size 640x480 with 1 Axes>"
      ]
     },
     "metadata": {},
     "output_type": "display_data"
    }
   ],
   "source": [
    "sb.boxplot(data=df,y='sum_gamerounds');"
   ]
  },
  {
   "cell_type": "markdown",
   "id": "b19f661f",
   "metadata": {},
   "source": [
    "-  50% of the Players are quiting the game after reaching the 16th round and  75 % of the Players are quitting the game after reaching the 51st round. The reasons for quitting the game could be:- \n",
    "Levels after this round are really tough to crack, the players are getting bored after this round, the players are not finding the interface exciting anymore.\n",
    "- The company should send a feedback form/survey to each customer/player and analyze the root cause of this problem."
   ]
  },
  {
   "cell_type": "markdown",
   "id": "0404a5e7",
   "metadata": {},
   "source": [
    "### Q) Should the first gate in Cookie Cats be moved from level 30 to level 40?\n",
    "**The answer is divided into 2 parts:**\n",
    "1) Probability, AB Testing, Z-Score Hypothesis Testing for Day 1 Retention.<br>\n",
    "2) Probability, AB Testing, Z-Score Hypothesis Testing for Day 7 Retention."
   ]
  },
  {
   "cell_type": "markdown",
   "id": "87ac5199",
   "metadata": {},
   "source": [
    "### <u>Day 1 Retention (Probability)</u>"
   ]
  },
  {
   "cell_type": "code",
   "execution_count": 8,
   "id": "26a5766e",
   "metadata": {},
   "outputs": [
    {
     "name": "stdout",
     "output_type": "stream",
     "text": [
      "a. Number of unique players in control group: 44700 \n",
      "   Number of unique players in experiment group: 45489\n"
     ]
    }
   ],
   "source": [
    "print('a. Number of unique players in control group: {} \\n   Number of unique players in experiment group: {}'.format(df.query('version == \"gate_30\"').userid.nunique(),df.query('version == \"gate_40\"').userid.nunique()))"
   ]
  },
  {
   "cell_type": "markdown",
   "id": "48d4b516",
   "metadata": {},
   "source": [
    "**b.** \"Day 1 Retention rate\" of players in the group control (gate_30 version):"
   ]
  },
  {
   "cell_type": "code",
   "execution_count": 9,
   "id": "8094ded4",
   "metadata": {},
   "outputs": [
    {
     "data": {
      "text/plain": [
       "0.4481879194630872"
      ]
     },
     "execution_count": 9,
     "metadata": {},
     "output_type": "execute_result"
    }
   ],
   "source": [
    "p_old = df[(df['version'] == \"gate_30\")]['retention_1'].mean()\n",
    "p_old"
   ]
  },
  {
   "cell_type": "markdown",
   "id": "a53832a7",
   "metadata": {},
   "source": [
    "**c.** \"Day 1 Retention rate\" of players in the group experiment (gate_40 version):"
   ]
  },
  {
   "cell_type": "code",
   "execution_count": 10,
   "id": "1a35ad29",
   "metadata": {},
   "outputs": [
    {
     "data": {
      "text/plain": [
       "0.44228274967574577"
      ]
     },
     "execution_count": 10,
     "metadata": {},
     "output_type": "execute_result"
    }
   ],
   "source": [
    "p_new = df[(df['version'] == \"gate_40\")]['retention_1'].mean()\n",
    "p_new"
   ]
  },
  {
   "cell_type": "markdown",
   "id": "4745a5d9",
   "metadata": {},
   "source": [
    "**d.**  The actual difference (obs_diff) between the \"Day 1 Retention rates\" for the two groups."
   ]
  },
  {
   "cell_type": "code",
   "execution_count": 11,
   "id": "e03730a1",
   "metadata": {},
   "outputs": [
    {
     "data": {
      "text/plain": [
       "-0.005905169787341458"
      ]
     },
     "execution_count": 11,
     "metadata": {},
     "output_type": "execute_result"
    }
   ],
   "source": [
    "obs_diff = p_new - p_old\n",
    "obs_diff"
   ]
  },
  {
   "cell_type": "markdown",
   "id": "4d9737c2",
   "metadata": {},
   "source": [
    "#### Observed Difference in the proportion tells us that :\n",
    "The \"Day 1 retention rate\" for the players when they encounter the gate level 30 is <b>0.0059%</b> greater than The \"Day 1 retention rate\" of players when they encounter the gate level 40."
   ]
  },
  {
   "cell_type": "markdown",
   "id": "f9a984d7",
   "metadata": {},
   "source": [
    "***Let's find out if this conclusion is Statistically Significant or not!!***"
   ]
  },
  {
   "cell_type": "markdown",
   "id": "644fb2d8",
   "metadata": {},
   "source": [
    "### <u>Day 1  retention AB Testing</u>\n",
    "\n",
    " **$p_{old}$** and **$p_{new}$**,  are the \"Day 1 retention rate\" for the old and new versions respectively.\n",
    " \n",
    "$$H_0: p_{new} - p_{old} <= 0$$\n",
    "$$H_1: p_{new} - p_{old} >  0$$"
   ]
  },
  {
   "cell_type": "markdown",
   "id": "b2e0d5ef",
   "metadata": {},
   "source": [
    "**a.** $n_{new}$, the number of players who are using new version? <br><br>"
   ]
  },
  {
   "cell_type": "code",
   "execution_count": 12,
   "id": "16622348",
   "metadata": {},
   "outputs": [
    {
     "data": {
      "text/plain": [
       "45489"
      ]
     },
     "execution_count": 12,
     "metadata": {},
     "output_type": "execute_result"
    }
   ],
   "source": [
    "nnew = df.query('version == \"gate_40\"').shape[0] # number of players who were using new version\n",
    "nnew"
   ]
  },
  {
   "cell_type": "markdown",
   "id": "10570d36",
   "metadata": {},
   "source": [
    "**b.** $n_{old}$, the number of players who are using old version? <br><br>"
   ]
  },
  {
   "cell_type": "code",
   "execution_count": 13,
   "id": "9d3ebeb3",
   "metadata": {},
   "outputs": [
    {
     "data": {
      "text/plain": [
       "44700"
      ]
     },
     "execution_count": 13,
     "metadata": {},
     "output_type": "execute_result"
    }
   ],
   "source": [
    "nold = df.query('version == \"gate_30\"').shape[0] # number of players who were  using old version\n",
    "nold"
   ]
  },
  {
   "cell_type": "markdown",
   "id": "34b5fd48",
   "metadata": {},
   "source": [
    "**c. Simulating Sample for the `group_30`** <br>\n",
    "Simulating $n_{old}$ number of players with a retention1 rate of $p_{old}$ under the null hypothesis. <br> Storing these $n_{old}$ 1's and 0's in the `retention1_old` numpy array"
   ]
  },
  {
   "cell_type": "code",
   "execution_count": 14,
   "id": "60665225",
   "metadata": {},
   "outputs": [
    {
     "data": {
      "text/plain": [
       "0.4463087248322148"
      ]
     },
     "execution_count": 14,
     "metadata": {},
     "output_type": "execute_result"
    }
   ],
   "source": [
    "retention1_old = np.random.choice([1,0],nold,p=[p_old,1-p_old])\n",
    "retention1_old.mean()"
   ]
  },
  {
   "cell_type": "markdown",
   "id": "8e9af759",
   "metadata": {},
   "source": [
    "**d. Simulating Sample for the `group_40`** <br>\n",
    "Simulating $n_{new}$ number of players with a retention1 rate of $p_{new}$ under the null hypothesis. <br> Storing these $n_{new}$ 1's and 0's in the `retention1_new` numpy array"
   ]
  },
  {
   "cell_type": "code",
   "execution_count": 15,
   "id": "bdd8c125",
   "metadata": {},
   "outputs": [
    {
     "data": {
      "text/plain": [
       "0.44375563323001166"
      ]
     },
     "execution_count": 15,
     "metadata": {},
     "output_type": "execute_result"
    }
   ],
   "source": [
    "retention1_new = np.random.choice([1,0],nnew,p=[p_new,1-p_new])\n",
    "retention1_new.mean()"
   ]
  },
  {
   "cell_type": "markdown",
   "id": "b8be4da5",
   "metadata": {},
   "source": [
    "**e.** Find the difference in the probability $(p{'}_{new}$ - $p{'}_{old})$ for your simulated samples from the parts (c) and (d) above. "
   ]
  },
  {
   "cell_type": "code",
   "execution_count": 16,
   "id": "f5313746",
   "metadata": {},
   "outputs": [
    {
     "data": {
      "text/plain": [
       "-0.002553091602203128"
      ]
     },
     "execution_count": 16,
     "metadata": {},
     "output_type": "execute_result"
    }
   ],
   "source": [
    "retention1_new.mean() - retention1_old.mean()"
   ]
  },
  {
   "cell_type": "markdown",
   "id": "b0dd8d2d",
   "metadata": {},
   "source": [
    "**f. Sampling distribution** <br>\n",
    "Re-creating `retention1_old` and `retention1_new` and finding the $(p{'}_{new}$ - $p{'}_{old})$ value 10,000 times.\n",
    "\n",
    "<br>\n",
    "Storing all  $(p{'}_{new}$ - $p{'}_{old})$  values in a NumPy array called `p_diffs`."
   ]
  },
  {
   "cell_type": "code",
   "execution_count": 216,
   "id": "f7fd5dc4",
   "metadata": {},
   "outputs": [],
   "source": [
    "p_diffs = []\n",
    "for _ in range(10000):\n",
    "    retention1_old = np.random.choice([1,0],nold,p=[p_old,1 - p_old])\n",
    "    retention1_new = np.random.choice([1,0],nnew,p=[p_new,1- p_new])\n",
    "    obs_diff =  retention1_new.mean() - retention1_old.mean() \n",
    "    p_diffs.append(obs_diff)"
   ]
  },
  {
   "cell_type": "code",
   "execution_count": 217,
   "id": "a6652417",
   "metadata": {},
   "outputs": [
    {
     "data": {
      "image/png": "[encoded data removed]",
      "text/plain": [
       "<Figure size 640x480 with 1 Axes>"
      ]
     },
     "metadata": {},
     "output_type": "display_data"
    }
   ],
   "source": [
    "p_diffs = np.array(p_diffs)\n",
    "p_diffs = np.random.normal(0,p_diffs.std(),p_diffs.size)\n",
    "plt.hist(p_diffs)\n",
    "plt.axvline(x= obs_diff,c=\"r\",linestyle = '--');"
   ]
  },
  {
   "cell_type": "code",
   "execution_count": 218,
   "id": "f89f30f1",
   "metadata": {},
   "outputs": [
    {
     "data": {
      "text/plain": [
       "0.9727"
      ]
     },
     "execution_count": 218,
     "metadata": {},
     "output_type": "execute_result"
    }
   ],
   "source": [
    "(p_diffs > obs_diff).mean()"
   ]
  },
  {
   "cell_type": "markdown",
   "id": "4b55dcee",
   "metadata": {},
   "source": [
    "- Our <b>p value is greater than Type-I error (0.05)</b> which means that <b>we fail to reject our Null Hypothesis.</b>\n",
    "- We have statistical evidence to proof that the difference between Day-1-Retention-Rate of players when they encounter the gate level 30 and Day-1-Retention-Rate of players when they encounter the gate level 40 is less than 0."
   ]
  },
  {
   "cell_type": "markdown",
   "id": "b610ed80",
   "metadata": {},
   "source": [
    "### <u>Z-Score Hypothesis Testing for Day 1 Retention using Built-in functions</u>"
   ]
  },
  {
   "cell_type": "code",
   "execution_count": 219,
   "id": "7b2a87cb",
   "metadata": {},
   "outputs": [
    {
     "data": {
      "text/plain": [
       "(-1.7840862247974725, 0.9627951723515404)"
      ]
     },
     "execution_count": 219,
     "metadata": {},
     "output_type": "execute_result"
    }
   ],
   "source": [
    "nold = df.query('version == \"gate_30\" and retention_1 == True').shape[0]\n",
    "nnew = df.query('version == \"gate_40\" and retention_1 == True').shape[0]\n",
    "\n",
    "n_30 = len(df.query('version == \"gate_30\"'))\n",
    "n_40 = len(df.query('version == \"gate_40\"'))\n",
    "\n",
    "count = [nnew,nold]\n",
    "nobs = [n_40,n_30]\n",
    "\n",
    "z_score,p_value = sm.stats.proportions_ztest(count,nobs,alternative='larger')\n",
    "z_score,p_value"
   ]
  },
  {
   "cell_type": "code",
   "execution_count": 220,
   "id": "6ac7340f",
   "metadata": {},
   "outputs": [
    {
     "data": {
      "text/plain": [
       "1.6448536269514722"
      ]
     },
     "execution_count": 220,
     "metadata": {},
     "output_type": "execute_result"
    }
   ],
   "source": [
    "z_critical = norm.ppf(1-(0.05))\n",
    "z_critical"
   ]
  },
  {
   "cell_type": "markdown",
   "id": "4aa12130",
   "metadata": {},
   "source": [
    "<b>Our Z score < Critical Score and p value is greater than Type-I error(0.05)</b>. **Hence, we fail to reject our Null Hypothesis.**"
   ]
  },
  {
   "cell_type": "markdown",
   "id": "63266e3e",
   "metadata": {},
   "source": [
    "### <u>Day 7 Retention Probability</u>"
   ]
  },
  {
   "cell_type": "markdown",
   "id": "d94b0e64",
   "metadata": {},
   "source": [
    "**a.** \"Day 7 Retention rate\" of players in the group control (gate_30 version):"
   ]
  },
  {
   "cell_type": "code",
   "execution_count": 221,
   "id": "4fdcdd13",
   "metadata": {},
   "outputs": [
    {
     "data": {
      "text/plain": [
       "0.19020134228187918"
      ]
     },
     "execution_count": 221,
     "metadata": {},
     "output_type": "execute_result"
    }
   ],
   "source": [
    "p_old = df.query('version == \"gate_30\"')['retention_7'].mean()\n",
    "p_old"
   ]
  },
  {
   "cell_type": "markdown",
   "id": "6d9eab11",
   "metadata": {},
   "source": [
    "**b.** \"Day 7 Retention rate\" of players in the group experiment (gate_40 version):"
   ]
  },
  {
   "cell_type": "code",
   "execution_count": 222,
   "id": "d4df55ab",
   "metadata": {},
   "outputs": [
    {
     "data": {
      "text/plain": [
       "0.18200004396667327"
      ]
     },
     "execution_count": 222,
     "metadata": {},
     "output_type": "execute_result"
    }
   ],
   "source": [
    "p_new = df.query('version == \"gate_40\"')['retention_7'].mean()\n",
    "p_new"
   ]
  },
  {
   "cell_type": "markdown",
   "id": "af6ba05b",
   "metadata": {},
   "source": [
    "**c.**  The actual difference (obs_diff) between the \"Day 7 Retention rates\" for the two groups."
   ]
  },
  {
   "cell_type": "code",
   "execution_count": 223,
   "id": "36272302",
   "metadata": {},
   "outputs": [
    {
     "data": {
      "text/plain": [
       "-0.008201298315205913"
      ]
     },
     "execution_count": 223,
     "metadata": {},
     "output_type": "execute_result"
    }
   ],
   "source": [
    "obs_diff = p_new - p_old\n",
    "obs_diff"
   ]
  },
  {
   "cell_type": "markdown",
   "id": "2e6adcb1",
   "metadata": {},
   "source": [
    "#### Observed Difference in the proportion tells us that :\n",
    "The \"Day 7 retention rate\" for the players when they encounter the gate level 30 is <b>0.0082%</b> greater than The \"Day 7 retention rate\" of players when they encounter the gate level 40 ."
   ]
  },
  {
   "cell_type": "markdown",
   "id": "1aab3ff0",
   "metadata": {},
   "source": [
    "***Let's find out if this conclusion is Statistically Significant or not!!***"
   ]
  },
  {
   "cell_type": "markdown",
   "id": "54370e07",
   "metadata": {},
   "source": [
    "### <u>Day 7  retention AB Testing</u>\n",
    "\n",
    " **$p_{old}$** and **$p_{new}$**,  are the \"Day 7 retention rate\" for the old and new versions respectively.\n",
    " \n",
    "$$H_0: p_{new} - p_{old} <= 0$$\n",
    "$$H_1: p_{new} - p_{old} >  0$$"
   ]
  },
  {
   "cell_type": "markdown",
   "id": "4ccaae53",
   "metadata": {},
   "source": [
    "**a.** $n_{new}$, the number of players who are using new version? <br><br>"
   ]
  },
  {
   "cell_type": "code",
   "execution_count": 224,
   "id": "cbecc400",
   "metadata": {},
   "outputs": [
    {
     "data": {
      "text/plain": [
       "45489"
      ]
     },
     "execution_count": 224,
     "metadata": {},
     "output_type": "execute_result"
    }
   ],
   "source": [
    "nnew = df.query('version == \"gate_40\"').shape[0] # number of players who were using new version\n",
    "nnew"
   ]
  },
  {
   "cell_type": "markdown",
   "id": "0b812692",
   "metadata": {},
   "source": [
    "**b.** $n_{old}$, the number of players who are using old version? <br><br>"
   ]
  },
  {
   "cell_type": "code",
   "execution_count": 225,
   "id": "016ad76b",
   "metadata": {},
   "outputs": [
    {
     "data": {
      "text/plain": [
       "44700"
      ]
     },
     "execution_count": 225,
     "metadata": {},
     "output_type": "execute_result"
    }
   ],
   "source": [
    "nold = df.query('version == \"gate_30\"').shape[0] # number of players who were  using old version\n",
    "nold"
   ]
  },
  {
   "cell_type": "markdown",
   "id": "575dbe5d",
   "metadata": {},
   "source": [
    "**c. Simulating Sample for the `group_30`** <br>\n",
    "Simulating $n_{old}$ number of players with a retention7 rate of $p_{old}$ under the null hypothesis. <br> Storing these $n_{old}$ 1's and 0's in the `retention7_old` numpy array"
   ]
  },
  {
   "cell_type": "code",
   "execution_count": 226,
   "id": "e19f4758",
   "metadata": {},
   "outputs": [
    {
     "data": {
      "text/plain": [
       "0.18937360178970916"
      ]
     },
     "execution_count": 226,
     "metadata": {},
     "output_type": "execute_result"
    }
   ],
   "source": [
    "retention7_old = np.random.choice([1,0],nold,p=[p_old,1-p_old])\n",
    "retention7_old.mean()"
   ]
  },
  {
   "cell_type": "markdown",
   "id": "aca5a515",
   "metadata": {},
   "source": [
    "**d. Simulating Sample for the `group_40`** <br>\n",
    "Simulating $n_{new}$ number of players with a retention7 rate of $p_{new}$ under the null hypothesis. <br> Storing these $n_{new}$ 1's and 0's in the `retention7_new` numpy array"
   ]
  },
  {
   "cell_type": "code",
   "execution_count": 227,
   "id": "b9007400",
   "metadata": {},
   "outputs": [
    {
     "data": {
      "text/plain": [
       "0.17874651014530984"
      ]
     },
     "execution_count": 227,
     "metadata": {},
     "output_type": "execute_result"
    }
   ],
   "source": [
    "retention7_new= np.random.choice([1,0],nnew,p=[p_new,1-p_new])\n",
    "retention7_new.mean()"
   ]
  },
  {
   "cell_type": "markdown",
   "id": "d65a6671",
   "metadata": {},
   "source": [
    "**e.** Find the difference in the probability $(p{'}_{new}$ - $p{'}_{old})$ for your simulated samples from the parts (c) and (d) above."
   ]
  },
  {
   "cell_type": "code",
   "execution_count": 228,
   "id": "e277412e",
   "metadata": {},
   "outputs": [
    {
     "data": {
      "text/plain": [
       "-0.010627091644399317"
      ]
     },
     "execution_count": 228,
     "metadata": {},
     "output_type": "execute_result"
    }
   ],
   "source": [
    "retention7_new.mean() - retention7_old.mean()"
   ]
  },
  {
   "cell_type": "markdown",
   "id": "475944b3",
   "metadata": {},
   "source": [
    "**f. Sampling distribution** <br>\n",
    "Re-creating `retention7_old` and `retention7_new` and finding the $(p{'}_{new}$ - $p{'}_{old})$ value 10,000 times.\n",
    "\n",
    "<br>\n",
    "Storing all  $(p{'}_{new}$ - $p{'}_{old})$  values in a NumPy array called `p_diffs`."
   ]
  },
  {
   "cell_type": "code",
   "execution_count": 229,
   "id": "1850a8c6",
   "metadata": {},
   "outputs": [],
   "source": [
    "p_diffs = []\n",
    "for _ in range(10000):\n",
    "    retention1_old = np.random.choice([1,0],nold,p=[p_old,1 - p_old])\n",
    "    retention1_new = np.random.choice([1,0],nnew,p=[p_new,1- p_new])\n",
    "    obs_diff = retention1_new.mean() - retention1_old.mean() \n",
    "    p_diffs.append(obs_diff)"
   ]
  },
  {
   "cell_type": "code",
   "execution_count": 230,
   "id": "162b7d83",
   "metadata": {},
   "outputs": [
    {
     "data": {
      "image/png": "[encoded data removed]",
      "text/plain": [
       "<Figure size 640x480 with 1 Axes>"
      ]
     },
     "metadata": {},
     "output_type": "display_data"
    }
   ],
   "source": [
    "p_diffs = np.array(p_diffs)\n",
    "p_diffs = np.random.normal(0,p_diffs.std(),p_diffs.size)\n",
    "plt.hist(p_diffs)\n",
    "plt.axvline(x= obs_diff,c=\"r\",linestyle = '--');"
   ]
  },
  {
   "cell_type": "code",
   "execution_count": 231,
   "id": "e8e0a31b",
   "metadata": {},
   "outputs": [
    {
     "data": {
      "text/plain": [
       "0.9999"
      ]
     },
     "execution_count": 231,
     "metadata": {},
     "output_type": "execute_result"
    }
   ],
   "source": [
    "(p_diffs > obs_diff).mean()"
   ]
  },
  {
   "cell_type": "markdown",
   "id": "bbb85d4b",
   "metadata": {},
   "source": [
    "- Our p value is greater than Type-I error (0.05) which means that <b>we fail to reject our Null Hypothesis.</b>\n",
    "- We have statistical evidence to proof that the difference between Day-7-Retention-Rate of players when they encounter the gate level 30 and Day-7-Retention-Rate of players when they encounter the gate level 40 is less than 0."
   ]
  },
  {
   "cell_type": "code",
   "execution_count": 233,
   "id": "2c19bcb4",
   "metadata": {},
   "outputs": [
    {
     "data": {
      "text/plain": [
       "(-3.164358912748191, 0.001554249975614329)"
      ]
     },
     "execution_count": 233,
     "metadata": {},
     "output_type": "execute_result"
    }
   ],
   "source": [
    "n_30 = len(df.query('version == \"gate_30\"'))\n",
    "n_40 = len(df.query('version == \"gate_40\"'))\n",
    "\n",
    "nold = df.query('version == \"gate_30\" and retention_7 == True').shape[0]\n",
    "nnew = df.query('version == \"gate_40\" and retention_7 == True').shape[0]\n",
    "\n",
    "count = [nnew,nold]\n",
    "nobs = [n_40,n_30]\n",
    "\n",
    "z_score,p_value = sm.stats.proportions_ztest(count,nobs)\n",
    "z_score,p_value"
   ]
  },
  {
   "cell_type": "markdown",
   "id": "f720221c",
   "metadata": {},
   "source": [
    "<b>Our Z score < Critical Score and p value is greater than Type-I error(0.05)</b>. **Hence, we fail to reject our Null Hypothesis.**"
   ]
  },
  {
   "cell_type": "markdown",
   "id": "a82b794f",
   "metadata": {},
   "source": [
    "## Conclusion\n",
    "-  50% of the Players are quiting the game after reaching the 16th round and  75 % of the Players are quitting the game after reaching the 51th round. The reasons for quitting the game could be:- \n",
    "    - Levels after this round are really tough to crack\n",
    "    - The players are getting bored after this level\n",
    "    - and many more.\n",
    "- The company should send a feedback form/survey to each customer/player and analyze the root cause of this problem.\n",
    "- We have strong statistical evidence to proof that, the day 1 and day 7 Retention Rate of players when they encounter the gate_30 level is higher than when they are gate_40 level.\n",
    "\n",
    "    - The \"Day 1 retention rate\" for the players when they encounter the gate level 30 is <b>0.0059%</b> greater than The \"Day 1 retention rate\" of players when they encounter the gate level 40.\n",
    "    - The \"Day 7 retention rate\" for the players when they encounter the gate level 30 is <b>0.0082%</b> greater than The \"Day 7 retention rate\" of players when they encounter the gate level 40 .\n",
    "- **<u>It is recommended that the company does not move the first gate in Cookie Cats from level 30 to level 40.**"
   ]
  }
 ],
 "metadata": {
  "kernelspec": {
   "display_name": "Python 3 (ipykernel)",
   "language": "python",
   "name": "python3"
  },
  "language_info": {
   "codemirror_mode": {
    "name": "ipython",
    "version": 3
   },
   "file_extension": ".py",
   "mimetype": "text/x-python",
   "name": "python",
   "nbconvert_exporter": "python",
   "pygments_lexer": "ipython3",
   "version": "3.9.12"
  }
 },
 "nbformat": 4,
 "nbformat_minor": 5
}
