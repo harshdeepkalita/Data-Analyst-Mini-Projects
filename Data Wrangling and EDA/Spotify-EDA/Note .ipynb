{
 "cells": [
  {
   "cell_type": "code",
   "execution_count": 3,
   "id": "b60ad2f2",
   "metadata": {},
   "outputs": [
    {
     "ename": "IndentationError",
     "evalue": "expected an indented block (1413630622.py, line 5)",
     "output_type": "error",
     "traceback": [
      "\u001b[1;36m  Input \u001b[1;32mIn [3]\u001b[1;36m\u001b[0m\n\u001b[1;33m    \"\"\" Quick hack for creating violin plots with seaborn's PairGrid. \"\"\"\u001b[0m\n\u001b[1;37m    ^\u001b[0m\n\u001b[1;31mIndentationError\u001b[0m\u001b[1;31m:\u001b[0m expected an indented block\n"
     ]
    }
   ],
   "source": [
    " import seaborn as sb\n",
    "\n",
    " # Function to create violin plot\n",
    " def violingrid(x, y, **kwargs):\n",
    " \"\"\" Quick hack for creating violin plots with seaborn's PairGrid. \"\"\"\n",
    "    ax = sb.violinplot(x=x, y=y, color='b', inner='quartile')\n",
    "    ax.tick_params(rotation=90)\n",
    "\n",
    " # Function to create box plot\n",
    " def boxgrid(x, y, **kwargs):\n",
    "\"\"\" Quick hack for creating box plots with seaborn's PairGrid. \"\"\"\n",
    "    ax = sb.boxplot(x=x, y=y, color='b')               \n",
    "    ax.tick_params(rotation=90)\n",
    "\n",
    " # Function to create reg plot\n",
    " def reggrid(x, y, **kwargs):\n",
    "\"\"\" Quick hack for creating reg plots with seaborn's PairGrid. \"\"\"\n",
    "    ax = sb.regplot(x=x, y=y, color='b')               \n",
    "    ax.tick_params(rotation=90)"
   ]
  },
  {
   "cell_type": "markdown",
   "id": "af3bfe8c",
   "metadata": {},
   "source": [
    "A function can be created from any step of the code and adjusted with the parameters of the visualization. So for example, the function can take seaborn and matplotlib parameters, methods, or attributes!\n",
    "A function can be created from any step of code. Secondly, to add to the point stray for loops are a \" no-no \" too! It is more efficient to put them in a function!\n",
    "Finally, remember this is just a suggestion to add the most efficient function easily in this project! The code in the project was already effectively done!"
   ]
  },
  {
   "cell_type": "code",
   "execution_count": null,
   "id": "388a07a3",
   "metadata": {},
   "outputs": [],
   "source": []
  }
 ],
 "metadata": {
  "kernelspec": {
   "display_name": "Python 3 (ipykernel)",
   "language": "python",
   "name": "python3"
  },
  "language_info": {
   "codemirror_mode": {
    "name": "ipython",
    "version": 3
   },
   "file_extension": ".py",
   "mimetype": "text/x-python",
   "name": "python",
   "nbconvert_exporter": "python",
   "pygments_lexer": "ipython3",
   "version": "3.9.12"
  }
 },
 "nbformat": 4,
 "nbformat_minor": 5
}
